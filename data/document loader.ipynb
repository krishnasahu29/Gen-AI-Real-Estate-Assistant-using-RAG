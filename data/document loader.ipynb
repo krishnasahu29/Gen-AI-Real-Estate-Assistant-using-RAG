{
 "cells": [
  {
   "cell_type": "code",
   "execution_count": 8,
   "id": "89c92f59",
   "metadata": {},
   "outputs": [],
   "source": [
    "from langchain_community.document_loaders.csv_loader import CSVLoader\n",
    "from langchain_community.document_loaders import UnstructuredURLLoader"
   ]
  },
  {
   "cell_type": "code",
   "execution_count": 2,
   "id": "908e6002",
   "metadata": {},
   "outputs": [
    {
     "data": {
      "text/plain": [
       "50"
      ]
     },
     "execution_count": 2,
     "metadata": {},
     "output_type": "execute_result"
    }
   ],
   "source": [
    "loader = CSVLoader(\n",
    "    file_path=\"patient_records.csv\",\n",
    ")\n",
    "\n",
    "docs = loader.load()\n",
    "len(docs)  # Should return the number of documents loaded from the CSV file"
   ]
  },
  {
   "cell_type": "code",
   "execution_count": 7,
   "id": "2784f3a1",
   "metadata": {},
   "outputs": [
    {
     "name": "stdout",
     "output_type": "stream",
     "text": [
      "patient_id: PT-1000\n",
      "symptoms: Dizziness, irregular heartbeat, fatigue\n",
      "diagnosis: Atrial Fibrillation\n",
      "treatment: Blood thinners, beta-blockers\n",
      "doctor_notes: Irregular heartbeat detected; cardiology referral made.\n"
     ]
    }
   ],
   "source": [
    "print(docs[0].page_content)  # Should return the content of the first document loaded"
   ]
  },
  {
   "cell_type": "code",
   "execution_count": 6,
   "id": "e1570486",
   "metadata": {},
   "outputs": [
    {
     "data": {
      "text/plain": [
       "{'source': 'patient_records.csv', 'row': 0}"
      ]
     },
     "execution_count": 6,
     "metadata": {},
     "output_type": "execute_result"
    }
   ],
   "source": [
    "docs[0].metadata"
   ]
  },
  {
   "cell_type": "code",
   "execution_count": 10,
   "id": "74d916ed",
   "metadata": {},
   "outputs": [
    {
     "data": {
      "text/plain": [
       "1"
      ]
     },
     "execution_count": 10,
     "metadata": {},
     "output_type": "execute_result"
    }
   ],
   "source": [
    "loader = UnstructuredURLLoader(\n",
    "    urls=[\n",
    "        \"https://www.thehindu.com/news/international/trump-says-trade-deal-with-china-is-done-china-will-supply-rare-earths-us-to-allow-students/article69683222.ece\"\n",
    "    ],\n",
    ")\n",
    "\n",
    "docs = loader.load()\n",
    "len(docs)  # Should return the number of documents loaded from the URL"
   ]
  },
  {
   "cell_type": "code",
   "execution_count": null,
   "id": "7fa988ed",
   "metadata": {},
   "outputs": [],
   "source": []
  }
 ],
 "metadata": {
  "kernelspec": {
   "display_name": "Python 3",
   "language": "python",
   "name": "python3"
  },
  "language_info": {
   "codemirror_mode": {
    "name": "ipython",
    "version": 3
   },
   "file_extension": ".py",
   "mimetype": "text/x-python",
   "name": "python",
   "nbconvert_exporter": "python",
   "pygments_lexer": "ipython3",
   "version": "3.12.0"
  }
 },
 "nbformat": 4,
 "nbformat_minor": 5
}
